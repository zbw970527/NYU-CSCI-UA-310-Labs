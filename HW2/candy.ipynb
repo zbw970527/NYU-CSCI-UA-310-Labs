{
 "cells": [
  {
   "cell_type": "markdown",
   "metadata": {},
   "source": [
    "# Candy!"
   ]
  },
  {
   "cell_type": "markdown",
   "metadata": {},
   "source": [
    "Bowen Zhang bz896"
   ]
  },
  {
   "cell_type": "code",
   "execution_count": 1,
   "metadata": {},
   "outputs": [],
   "source": [
    "import tabletools as tt"
   ]
  },
  {
   "cell_type": "code",
   "execution_count": 2,
   "metadata": {},
   "outputs": [],
   "source": [
    "data = tt.read_csv('candy-data.csv')"
   ]
  },
  {
   "cell_type": "code",
   "execution_count": 3,
   "metadata": {},
   "outputs": [],
   "source": [
    "lastFour = data.tail(4)"
   ]
  },
  {
   "cell_type": "code",
   "execution_count": 4,
   "metadata": {},
   "outputs": [
    {
     "data": {
      "text/plain": [
       "                competitorname chocolate fruity caramel peanutyalmondy nougat crispedricewafer hard bar pluribus sugarpercent pricepercent winpercent\n",
       " 81                   Warheads       0.0    1.0     0.0            0.0    0.0              0.0  1.0 0.0      0.0  0.093000002        0.116  39.011898\n",
       " 82       Welch脮s Fruit Snacks       0.0    1.0     0.0            0.0    0.0              0.0  0.0 0.0      1.0   0.31299999   0.31299999  44.375519\n",
       " 83 Werther脮s Original Caramel       0.0    0.0     1.0            0.0    0.0              0.0  1.0 0.0      0.0        0.186   0.26699999  41.904308\n",
       " 84                   Whoppers       1.0    0.0     0.0            0.0    0.0              1.0  0.0 0.0      1.0   0.87199998   0.84799999  49.524113"
      ]
     },
     "execution_count": 4,
     "metadata": {},
     "output_type": "execute_result"
    }
   ],
   "source": [
    "lastFour"
   ]
  },
  {
   "cell_type": "code",
   "execution_count": 8,
   "metadata": {},
   "outputs": [
    {
     "data": {
      "text/plain": [
       "1"
      ]
     },
     "execution_count": 8,
     "metadata": {},
     "output_type": "execute_result"
    }
   ],
   "source": [
    "data.column.index('chocolate')"
   ]
  },
  {
   "cell_type": "code",
   "execution_count": 9,
   "metadata": {},
   "outputs": [
    {
     "data": {
      "text/plain": [
       "4"
      ]
     },
     "execution_count": 9,
     "metadata": {},
     "output_type": "execute_result"
    }
   ],
   "source": [
    "data.column.index('peanutyalmondy')"
   ]
  },
  {
   "cell_type": "code",
   "execution_count": 22,
   "metadata": {},
   "outputs": [],
   "source": [
    "tflist = []\n",
    "for i in range(len(data.row)):\n",
    "    if data.data[i][1] == 1:\n",
    "        tflist.append(True)\n",
    "    else:\n",
    "        tflist.append(False)"
   ]
  },
  {
   "cell_type": "code",
   "execution_count": 23,
   "metadata": {},
   "outputs": [],
   "source": [
    "choco = data[tt.LabeledList(['competitorname','chocolate','peanutyalmondy', 'winpercent'])]"
   ]
  },
  {
   "cell_type": "code",
   "execution_count": 24,
   "metadata": {},
   "outputs": [],
   "source": [
    "choco = choco[tflist]"
   ]
  },
  {
   "cell_type": "code",
   "execution_count": 25,
   "metadata": {},
   "outputs": [
    {
     "data": {
      "text/plain": [
       "                 competitorname chocolate peanutyalmondy winpercent\n",
       "  0                   100 Grand       1.0            0.0  66.971725\n",
       "  1                3 Musketeers       1.0            0.0  67.602936\n",
       "  5                  Almond Joy       1.0            1.0  50.347546\n",
       "  6                   Baby Ruth       1.0            1.0  56.914547\n",
       " 10             Charleston Chew       1.0            0.0  38.975037\n",
       " 22            Hershey脮s Kisses       1.0            0.0  55.375454\n",
       " 23           Hershey脮s Krackel       1.0            0.0  62.284481\n",
       " 24    Hershey脮s Milk Chocolate       1.0            0.0  56.490501\n",
       " 25      Hershey脮s Special Dark       1.0            0.0  59.236122\n",
       " 27                Junior Mints       1.0            0.0   57.21925\n",
       " 28                     Kit Kat       1.0            0.0    76.7686\n",
       " 32         Peanut butter M&M脮s       1.0            1.0   71.46505\n",
       " 33                       M&M脮s       1.0            0.0  66.574585\n",
       " 35                   Milk Duds       1.0            0.0  55.064072\n",
       " 36                   Milky Way       1.0            0.0  73.099556\n",
       " 37          Milky Way Midnight       1.0            0.0  60.800701\n",
       " 38    Milky Way Simply Caramel       1.0            0.0   64.35334\n",
       " 39                      Mounds       1.0            0.0  47.829754\n",
       " 40                 Mr Good Bar       1.0            1.0  54.526451\n",
       " 42         Nestle Butterfinger       1.0            1.0  70.735641\n",
       " 43               Nestle Crunch       1.0            0.0   66.47068\n",
       " 47                 Peanut M&Ms       1.0            1.0  69.483788\n",
       " 51          Reese脮s Miniatures       1.0            1.0  81.866257\n",
       " 52   Reese脮s Peanut Butter cup       1.0            1.0   84.18029\n",
       " 53              Reese脮s pieces       1.0            1.0   73.43499\n",
       " 54 Reese脮s stuffed with pieces       1.0            1.0  72.887901\n",
       " 56                        Rolo       1.0            0.0  65.716286\n",
       " 59                     Sixlets       1.0            0.0     34.722\n",
       " 62             Nestle Smarties       1.0            0.0  37.887188\n",
       " 64                    Snickers       1.0            1.0  76.673782\n",
       " 65            Snickers Crisper       1.0            1.0  59.529251\n",
       " 74                 Tootsie Pop       1.0            0.0  48.982651\n",
       " 75        Tootsie Roll Juniors       1.0            0.0  43.068897\n",
       " 76        Tootsie Roll Midgies       1.0            0.0  45.736748\n",
       " 77     Tootsie Roll Snack Bars       1.0            0.0  49.653503\n",
       " 79                        Twix       1.0            0.0  81.642914\n",
       " 84                    Whoppers       1.0            0.0  49.524113"
      ]
     },
     "execution_count": 25,
     "metadata": {},
     "output_type": "execute_result"
    }
   ],
   "source": [
    "choco"
   ]
  },
  {
   "cell_type": "code",
   "execution_count": 26,
   "metadata": {},
   "outputs": [],
   "source": [
    "tflist2 = []\n",
    "for i in range(len(choco.data)):\n",
    "    if choco.data[i][2] == 1:\n",
    "        tflist2.append(True)\n",
    "    else:\n",
    "        tflist2.append(False)"
   ]
  },
  {
   "cell_type": "code",
   "execution_count": 27,
   "metadata": {},
   "outputs": [],
   "source": [
    "chocoAndPeanut = choco[tflist2]"
   ]
  },
  {
   "cell_type": "code",
   "execution_count": 28,
   "metadata": {},
   "outputs": [
    {
     "data": {
      "text/plain": [
       "                 competitorname chocolate peanutyalmondy winpercent\n",
       "  5                  Almond Joy       1.0            1.0  50.347546\n",
       "  6                   Baby Ruth       1.0            1.0  56.914547\n",
       " 32         Peanut butter M&M脮s       1.0            1.0   71.46505\n",
       " 40                 Mr Good Bar       1.0            1.0  54.526451\n",
       " 42         Nestle Butterfinger       1.0            1.0  70.735641\n",
       " 47                 Peanut M&Ms       1.0            1.0  69.483788\n",
       " 51          Reese脮s Miniatures       1.0            1.0  81.866257\n",
       " 52   Reese脮s Peanut Butter cup       1.0            1.0   84.18029\n",
       " 53              Reese脮s pieces       1.0            1.0   73.43499\n",
       " 54 Reese脮s stuffed with pieces       1.0            1.0  72.887901\n",
       " 64                    Snickers       1.0            1.0  76.673782\n",
       " 65            Snickers Crisper       1.0            1.0  59.529251"
      ]
     },
     "execution_count": 28,
     "metadata": {},
     "output_type": "execute_result"
    }
   ],
   "source": [
    "chocoAndPeanut"
   ]
  },
  {
   "cell_type": "code",
   "execution_count": 31,
   "metadata": {},
   "outputs": [],
   "source": [
    "win = []\n",
    "for i in chocoAndPeanut.data:\n",
    "    win.append(i[3])"
   ]
  },
  {
   "cell_type": "code",
   "execution_count": 33,
   "metadata": {},
   "outputs": [],
   "source": [
    "numLoss = list(filter(lambda x: x < 50, win))"
   ]
  },
  {
   "cell_type": "code",
   "execution_count": 34,
   "metadata": {},
   "outputs": [
    {
     "data": {
      "text/plain": [
       "[]"
      ]
     },
     "execution_count": 34,
     "metadata": {},
     "output_type": "execute_result"
    }
   ],
   "source": [
    "numLoss"
   ]
  },
  {
   "cell_type": "markdown",
   "metadata": {},
   "source": [
    "Therefore, there is no candy which is both a chocolate and a peanutyalmondy lost in this competition!"
   ]
  },
  {
   "cell_type": "code",
   "execution_count": 35,
   "metadata": {},
   "outputs": [],
   "source": [
    "nameList = []\n",
    "for i in data.data:\n",
    "    nameList.append(i[0])"
   ]
  },
  {
   "cell_type": "code",
   "execution_count": 36,
   "metadata": {},
   "outputs": [
    {
     "data": {
      "text/plain": [
       "['100 Grand',\n",
       " '3 Musketeers',\n",
       " 'One dime',\n",
       " 'One quarter',\n",
       " 'Air Heads',\n",
       " 'Almond Joy',\n",
       " 'Baby Ruth',\n",
       " 'Boston Baked Beans',\n",
       " 'Candy Corn',\n",
       " 'Caramel Apple Pops',\n",
       " 'Charleston Chew',\n",
       " 'Chewey Lemonhead Fruit Mix',\n",
       " 'Chiclets',\n",
       " 'Dots',\n",
       " 'Dum Dums',\n",
       " 'Fruit Chews',\n",
       " 'Fun Dip',\n",
       " 'Gobstopper',\n",
       " 'Haribo Gold Bears',\n",
       " 'Haribo Happy Cola',\n",
       " 'Haribo Sour Bears',\n",
       " 'Haribo Twin Snakes',\n",
       " 'Hershey脮s Kisses',\n",
       " 'Hershey脮s Krackel',\n",
       " 'Hershey脮s Milk Chocolate',\n",
       " 'Hershey脮s Special Dark',\n",
       " 'Jawbusters',\n",
       " 'Junior Mints',\n",
       " 'Kit Kat',\n",
       " 'Laffy Taffy',\n",
       " 'Lemonhead',\n",
       " 'Lifesavers big ring gummies',\n",
       " 'Peanut butter M&M脮s',\n",
       " 'M&M脮s',\n",
       " 'Mike & Ike',\n",
       " 'Milk Duds',\n",
       " 'Milky Way',\n",
       " 'Milky Way Midnight',\n",
       " 'Milky Way Simply Caramel',\n",
       " 'Mounds',\n",
       " 'Mr Good Bar',\n",
       " 'Nerds',\n",
       " 'Nestle Butterfinger',\n",
       " 'Nestle Crunch',\n",
       " 'Nik L Nip',\n",
       " 'Now & Later',\n",
       " 'Payday',\n",
       " 'Peanut M&Ms',\n",
       " 'Pixie Sticks',\n",
       " 'Pop Rocks',\n",
       " 'Red vines',\n",
       " 'Reese脮s Miniatures',\n",
       " 'Reese脮s Peanut Butter cup',\n",
       " 'Reese脮s pieces',\n",
       " 'Reese脮s stuffed with pieces',\n",
       " 'Ring pop',\n",
       " 'Rolo',\n",
       " 'Root Beer Barrels',\n",
       " 'Runts',\n",
       " 'Sixlets',\n",
       " 'Skittles original',\n",
       " 'Skittles wildberry',\n",
       " 'Nestle Smarties',\n",
       " 'Smarties candy',\n",
       " 'Snickers',\n",
       " 'Snickers Crisper',\n",
       " 'Sour Patch Kids',\n",
       " 'Sour Patch Tricksters',\n",
       " 'Starburst',\n",
       " 'Strawberry bon bons',\n",
       " 'Sugar Babies',\n",
       " 'Sugar Daddy',\n",
       " 'Super Bubble',\n",
       " 'Swedish Fish',\n",
       " 'Tootsie Pop',\n",
       " 'Tootsie Roll Juniors',\n",
       " 'Tootsie Roll Midgies',\n",
       " 'Tootsie Roll Snack Bars',\n",
       " 'Trolli Sour Bites',\n",
       " 'Twix',\n",
       " 'Twizzlers',\n",
       " 'Warheads',\n",
       " 'Welch脮s Fruit Snacks',\n",
       " 'Werther脮s Original Caramel',\n",
       " 'Whoppers']"
      ]
     },
     "execution_count": 36,
     "metadata": {},
     "output_type": "execute_result"
    }
   ],
   "source": [
    "nameList"
   ]
  },
  {
   "cell_type": "code",
   "execution_count": 43,
   "metadata": {},
   "outputs": [],
   "source": [
    "nameReese = list(filter(lambda x: x.startswith('Reese'), nameList))"
   ]
  },
  {
   "cell_type": "code",
   "execution_count": 44,
   "metadata": {},
   "outputs": [
    {
     "data": {
      "text/plain": [
       "['Reese脮s Miniatures',\n",
       " 'Reese脮s Peanut Butter cup',\n",
       " 'Reese脮s pieces',\n",
       " 'Reese脮s stuffed with pieces']"
      ]
     },
     "execution_count": 44,
     "metadata": {},
     "output_type": "execute_result"
    }
   ],
   "source": [
    "nameReese"
   ]
  },
  {
   "cell_type": "code",
   "execution_count": 41,
   "metadata": {},
   "outputs": [],
   "source": [
    "nameLessTen = list(filter(lambda x: len(x) < 10, nameList))"
   ]
  },
  {
   "cell_type": "code",
   "execution_count": 42,
   "metadata": {},
   "outputs": [
    {
     "data": {
      "text/plain": [
       "['100 Grand',\n",
       " 'One dime',\n",
       " 'Air Heads',\n",
       " 'Baby Ruth',\n",
       " 'Chiclets',\n",
       " 'Dots',\n",
       " 'Dum Dums',\n",
       " 'Fun Dip',\n",
       " 'Kit Kat',\n",
       " 'Lemonhead',\n",
       " 'M&M脮s',\n",
       " 'Milk Duds',\n",
       " 'Milky Way',\n",
       " 'Mounds',\n",
       " 'Nerds',\n",
       " 'Nik L Nip',\n",
       " 'Payday',\n",
       " 'Pop Rocks',\n",
       " 'Red vines',\n",
       " 'Ring pop',\n",
       " 'Rolo',\n",
       " 'Runts',\n",
       " 'Sixlets',\n",
       " 'Snickers',\n",
       " 'Starburst',\n",
       " 'Twix',\n",
       " 'Twizzlers',\n",
       " 'Warheads',\n",
       " 'Whoppers']"
      ]
     },
     "execution_count": 42,
     "metadata": {},
     "output_type": "execute_result"
    }
   ],
   "source": [
    "nameLessTen"
   ]
  },
  {
   "cell_type": "code",
   "execution_count": null,
   "metadata": {},
   "outputs": [],
   "source": []
  }
 ],
 "metadata": {
  "kernelspec": {
   "display_name": "Python 3",
   "language": "python",
   "name": "python3"
  },
  "language_info": {
   "codemirror_mode": {
    "name": "ipython",
    "version": 3
   },
   "file_extension": ".py",
   "mimetype": "text/x-python",
   "name": "python",
   "nbconvert_exporter": "python",
   "pygments_lexer": "ipython3",
   "version": "3.6.5"
  }
 },
 "nbformat": 4,
 "nbformat_minor": 2
}
