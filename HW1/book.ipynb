{
 "cells": [
  {
   "cell_type": "markdown",
   "metadata": {},
   "source": [
    "# Homework 01 Part II\n",
    "What is the most frequently mentioned Japanese City in the book Mysterious Japan?"
   ]
  },
  {
   "cell_type": "markdown",
   "metadata": {},
   "source": [
    "To simplify the problem and make it easy to do, I made a list of Japan's cities, trying to count the number that each city is mentioned and output them as a dictionary. "
   ]
  },
  {
   "cell_type": "code",
   "execution_count": 2,
   "metadata": {},
   "outputs": [],
   "source": [
    "cities = [\"Tokyo\", \"Kyoto\", \"Sapporo\", \"Kobe\", \"Yokohama\", \"Hiroshima\", \"Osaka\", \"Nagoya\", \"Fukuoka\", \"Nagasaki\", \"Sendai\", \"Naha\", \"Kumamoto\", \"Narita\", \"Nara\"]"
   ]
  },
  {
   "cell_type": "markdown",
   "metadata": {},
   "source": [
    "First, create a dictionary using the list I created above."
   ]
  },
  {
   "cell_type": "code",
   "execution_count": 3,
   "metadata": {},
   "outputs": [],
   "source": [
    "count = dict([(x,0) for x in cities])"
   ]
  },
  {
   "cell_type": "markdown",
   "metadata": {},
   "source": [
    "Check if it works well!"
   ]
  },
  {
   "cell_type": "code",
   "execution_count": 4,
   "metadata": {},
   "outputs": [
    {
     "data": {
      "text/plain": [
       "{'Tokyo': 0,\n",
       " 'Kyoto': 0,\n",
       " 'Sapporo': 0,\n",
       " 'Kobe': 0,\n",
       " 'Yokohama': 0,\n",
       " 'Hiroshima': 0,\n",
       " 'Osaka': 0,\n",
       " 'Nagoya': 0,\n",
       " 'Fukuoka': 0,\n",
       " 'Nagasaki': 0,\n",
       " 'Sendai': 0,\n",
       " 'Naha': 0,\n",
       " 'Kumamoto': 0,\n",
       " 'Narita': 0,\n",
       " 'Nara': 0}"
      ]
     },
     "execution_count": 4,
     "metadata": {},
     "output_type": "execute_result"
    }
   ],
   "source": [
    "count"
   ]
  },
  {
   "cell_type": "markdown",
   "metadata": {},
   "source": [
    "Then, open the file and look for each keywords line by line."
   ]
  },
  {
   "cell_type": "code",
   "execution_count": 5,
   "metadata": {},
   "outputs": [],
   "source": [
    "with open(\"mysterious japan.txt\", \"r\") as f:\n",
    "    for line in f:\n",
    "        for x in cities:\n",
    "            if x in line:\n",
    "                count[x] += 1"
   ]
  },
  {
   "cell_type": "code",
   "execution_count": 6,
   "metadata": {},
   "outputs": [
    {
     "name": "stdout",
     "output_type": "stream",
     "text": [
      "{'Tokyo': 113, 'Kyoto': 30, 'Sapporo': 0, 'Kobe': 5, 'Yokohama': 13, 'Hiroshima': 0, 'Osaka': 5, 'Nagoya': 1, 'Fukuoka': 0, 'Nagasaki': 0, 'Sendai': 0, 'Naha': 0, 'Kumamoto': 1, 'Narita': 0, 'Nara': 7}\n"
     ]
    }
   ],
   "source": [
    "print(count)"
   ]
  },
  {
   "cell_type": "markdown",
   "metadata": {},
   "source": [
    "So, from the above analysis, it is clear that Tokyo is the most-mentioned city in the book Mysterious Japan"
   ]
  }
 ],
 "metadata": {
  "kernelspec": {
   "display_name": "Python 3",
   "language": "python",
   "name": "python3"
  },
  "language_info": {
   "codemirror_mode": {
    "name": "ipython",
    "version": 3
   },
   "file_extension": ".py",
   "mimetype": "text/x-python",
   "name": "python",
   "nbconvert_exporter": "python",
   "pygments_lexer": "ipython3",
   "version": "3.6.5"
  }
 },
 "nbformat": 4,
 "nbformat_minor": 2
}
