{
 "cells": [
  {
   "cell_type": "markdown",
   "metadata": {},
   "source": [
    "Here I will use Pandas for Section 2 and 3"
   ]
  },
  {
   "cell_type": "markdown",
   "metadata": {},
   "source": [
    "### Part 2"
   ]
  },
  {
   "cell_type": "code",
   "execution_count": 7,
   "metadata": {},
   "outputs": [],
   "source": [
    "import pandas as pd\n",
    "import numpy as np\n",
    "class Data:\n",
    "    def __init__(self, filename):\n",
    "        self.data = pd.read_csv(filename)\n",
    "        \n",
    "    def keepColumn(self, *args):\n",
    "        keep_col = []\n",
    "        for i in args:\n",
    "            keep_col.append(i)\n",
    "        self.data = self.data[keep_col]\n",
    "    \n",
    "    def toCSV(self, fileName):\n",
    "        self.data.to_csv(fileName, index=False)\n",
    "        \n",
    "    def dropNA(self, *args):\n",
    "        subset = []\n",
    "        for i in args:\n",
    "            subset.append(i)\n",
    "        self.data = self.data.dropna(subset = subset)\n",
    "        \n",
    "    def fillNA(self, column, value):\n",
    "        self.data = self.data[column].fillna(value)\n",
    "        \n",
    "    def count(self, column):\n",
    "        print(self.data[column].value_counts())\n",
    "    \n",
    "    def plot(self, column, form):\n",
    "        return self.data[column].value_counts().plot(kind = form)"
   ]
  },
  {
   "cell_type": "markdown",
   "metadata": {},
   "source": [
    "Extra Credit: use class"
   ]
  },
  {
   "cell_type": "code",
   "execution_count": 8,
   "metadata": {},
   "outputs": [
    {
     "data": {
      "text/html": [
       "<div>\n",
       "<style scoped>\n",
       "    .dataframe tbody tr th:only-of-type {\n",
       "        vertical-align: middle;\n",
       "    }\n",
       "\n",
       "    .dataframe tbody tr th {\n",
       "        vertical-align: top;\n",
       "    }\n",
       "\n",
       "    .dataframe thead th {\n",
       "        text-align: right;\n",
       "    }\n",
       "</style>\n",
       "<table border=\"1\" class=\"dataframe\">\n",
       "  <thead>\n",
       "    <tr style=\"text-align: right;\">\n",
       "      <th></th>\n",
       "      <th>Business Name</th>\n",
       "      <th>Industry</th>\n",
       "      <th>Complaint Type</th>\n",
       "      <th>Mediation Start Date</th>\n",
       "      <th>Mediation Close Date</th>\n",
       "      <th>Complaint Result</th>\n",
       "      <th>Satisfaction</th>\n",
       "      <th>Restitution</th>\n",
       "      <th>Business Building</th>\n",
       "      <th>Business Street</th>\n",
       "      <th>Building Address Unit</th>\n",
       "      <th>Business City</th>\n",
       "      <th>Business State</th>\n",
       "      <th>Business Zip</th>\n",
       "      <th>Complainant Zip</th>\n",
       "      <th>Longitude</th>\n",
       "      <th>Latitude</th>\n",
       "    </tr>\n",
       "  </thead>\n",
       "  <tbody>\n",
       "    <tr>\n",
       "      <th>0</th>\n",
       "      <td>MUNDO TRAVEL</td>\n",
       "      <td>Travel Agency - 440</td>\n",
       "      <td>Non-Delivery of Goods - N01</td>\n",
       "      <td>10/11/2017</td>\n",
       "      <td>11/03/2017</td>\n",
       "      <td>Resolved and Consumer Satisfied - SPF</td>\n",
       "      <td>Yes</td>\n",
       "      <td>0.0</td>\n",
       "      <td>127</td>\n",
       "      <td>GRAHAM AVE</td>\n",
       "      <td>NaN</td>\n",
       "      <td>BROOKLYN</td>\n",
       "      <td>NY</td>\n",
       "      <td>11206.0</td>\n",
       "      <td>11101</td>\n",
       "      <td>-73.943142</td>\n",
       "      <td>40.707031</td>\n",
       "    </tr>\n",
       "    <tr>\n",
       "      <th>1</th>\n",
       "      <td>DREAM WORLD FURNITURE CORP.</td>\n",
       "      <td>Furniture Sales - 242</td>\n",
       "      <td>Non-Delivery of Goods - N01</td>\n",
       "      <td>01/06/2017</td>\n",
       "      <td>01/20/2017</td>\n",
       "      <td>Goods Received - GDR</td>\n",
       "      <td>Yes</td>\n",
       "      <td>0.0</td>\n",
       "      <td>2997</td>\n",
       "      <td>3RD AVE</td>\n",
       "      <td>NaN</td>\n",
       "      <td>BRONX</td>\n",
       "      <td>NY</td>\n",
       "      <td>10455.0</td>\n",
       "      <td>10475</td>\n",
       "      <td>NaN</td>\n",
       "      <td>NaN</td>\n",
       "    </tr>\n",
       "    <tr>\n",
       "      <th>2</th>\n",
       "      <td>MANSION 88 PARKING LLC</td>\n",
       "      <td>Garage - 049</td>\n",
       "      <td>Damaged Goods - D01</td>\n",
       "      <td>09/13/2017</td>\n",
       "      <td>09/29/2017</td>\n",
       "      <td>Cash Amount - AMT</td>\n",
       "      <td>Yes</td>\n",
       "      <td>1412.0</td>\n",
       "      <td>170</td>\n",
       "      <td>E END AVE</td>\n",
       "      <td>NaN</td>\n",
       "      <td>NEW YORK</td>\n",
       "      <td>NY</td>\n",
       "      <td>10128.0</td>\n",
       "      <td>11580</td>\n",
       "      <td>-73.943978</td>\n",
       "      <td>40.776034</td>\n",
       "    </tr>\n",
       "    <tr>\n",
       "      <th>3</th>\n",
       "      <td>MAX WORLD OF CARS II INC</td>\n",
       "      <td>Secondhand Dealer Auto - 005</td>\n",
       "      <td>Damaged Goods - D01</td>\n",
       "      <td>01/12/2018</td>\n",
       "      <td>01/30/2018</td>\n",
       "      <td>Goods Repaired - GRS</td>\n",
       "      <td>Yes</td>\n",
       "      <td>0.0</td>\n",
       "      <td>332</td>\n",
       "      <td>NaN</td>\n",
       "      <td>NaN</td>\n",
       "      <td>WYCLOFF</td>\n",
       "      <td>NJ</td>\n",
       "      <td>7481.0</td>\n",
       "      <td>11385</td>\n",
       "      <td>-73.905655</td>\n",
       "      <td>40.753434</td>\n",
       "    </tr>\n",
       "    <tr>\n",
       "      <th>4</th>\n",
       "      <td>E Z PAWN CORP.</td>\n",
       "      <td>Jewelry Store-Retail - 823</td>\n",
       "      <td>Non-Delivery of Goods - N01</td>\n",
       "      <td>01/10/2017</td>\n",
       "      <td>01/31/2017</td>\n",
       "      <td>Resolved and Consumer Satisfied - SPF</td>\n",
       "      <td>Yes</td>\n",
       "      <td>0.0</td>\n",
       "      <td>1878</td>\n",
       "      <td>LEXINGTON AVE</td>\n",
       "      <td>NaN</td>\n",
       "      <td>NEW YORK</td>\n",
       "      <td>NY</td>\n",
       "      <td>10035.0</td>\n",
       "      <td>11412</td>\n",
       "      <td>-73.941210</td>\n",
       "      <td>40.799201</td>\n",
       "    </tr>\n",
       "  </tbody>\n",
       "</table>\n",
       "</div>"
      ],
      "text/plain": [
       "                 Business Name                      Industry  \\\n",
       "0                 MUNDO TRAVEL           Travel Agency - 440   \n",
       "1  DREAM WORLD FURNITURE CORP.         Furniture Sales - 242   \n",
       "2       MANSION 88 PARKING LLC                  Garage - 049   \n",
       "3     MAX WORLD OF CARS II INC  Secondhand Dealer Auto - 005   \n",
       "4               E Z PAWN CORP.    Jewelry Store-Retail - 823   \n",
       "\n",
       "                Complaint Type Mediation Start Date Mediation Close Date  \\\n",
       "0  Non-Delivery of Goods - N01           10/11/2017           11/03/2017   \n",
       "1  Non-Delivery of Goods - N01           01/06/2017           01/20/2017   \n",
       "2          Damaged Goods - D01           09/13/2017           09/29/2017   \n",
       "3          Damaged Goods - D01           01/12/2018           01/30/2018   \n",
       "4  Non-Delivery of Goods - N01           01/10/2017           01/31/2017   \n",
       "\n",
       "                        Complaint Result Satisfaction  Restitution  \\\n",
       "0  Resolved and Consumer Satisfied - SPF          Yes          0.0   \n",
       "1                   Goods Received - GDR          Yes          0.0   \n",
       "2                      Cash Amount - AMT          Yes       1412.0   \n",
       "3                   Goods Repaired - GRS          Yes          0.0   \n",
       "4  Resolved and Consumer Satisfied - SPF          Yes          0.0   \n",
       "\n",
       "  Business Building Business Street Building Address Unit Business City  \\\n",
       "0               127      GRAHAM AVE                   NaN      BROOKLYN   \n",
       "1              2997         3RD AVE                   NaN         BRONX   \n",
       "2               170       E END AVE                   NaN      NEW YORK   \n",
       "3               332             NaN                   NaN       WYCLOFF   \n",
       "4              1878   LEXINGTON AVE                   NaN      NEW YORK   \n",
       "\n",
       "  Business State  Business Zip Complainant Zip   Longitude   Latitude  \n",
       "0             NY       11206.0            11101 -73.943142  40.707031  \n",
       "1             NY       10455.0            10475        NaN        NaN  \n",
       "2             NY       10128.0            11580 -73.943978  40.776034  \n",
       "3             NJ        7481.0            11385 -73.905655  40.753434  \n",
       "4             NY       10035.0            11412 -73.941210  40.799201  "
      ]
     },
     "execution_count": 8,
     "metadata": {},
     "output_type": "execute_result"
    }
   ],
   "source": [
    "file = Data(\"Consumer_Services_Mediated_Complaints.csv\")\n",
    "file.data[:5]"
   ]
  },
  {
   "cell_type": "code",
   "execution_count": 9,
   "metadata": {},
   "outputs": [],
   "source": [
    "file.keepColumn('Industry','Complaint Type','Mediation Start Date','Mediation Close Date','Complaint Result','Satisfaction','Business City','Business State')\n",
    "file.dropNA('Business City', 'Business State','Complaint Type')\n",
    "#file.toCSV(\"newFile1.csv\")"
   ]
  },
  {
   "cell_type": "code",
   "execution_count": 10,
   "metadata": {
    "scrolled": false
   },
   "outputs": [
    {
     "data": {
      "text/html": [
       "<div>\n",
       "<style scoped>\n",
       "    .dataframe tbody tr th:only-of-type {\n",
       "        vertical-align: middle;\n",
       "    }\n",
       "\n",
       "    .dataframe tbody tr th {\n",
       "        vertical-align: top;\n",
       "    }\n",
       "\n",
       "    .dataframe thead th {\n",
       "        text-align: right;\n",
       "    }\n",
       "</style>\n",
       "<table border=\"1\" class=\"dataframe\">\n",
       "  <thead>\n",
       "    <tr style=\"text-align: right;\">\n",
       "      <th></th>\n",
       "      <th>Industry</th>\n",
       "      <th>Complaint Type</th>\n",
       "      <th>Mediation Start Date</th>\n",
       "      <th>Mediation Close Date</th>\n",
       "      <th>Complaint Result</th>\n",
       "      <th>Satisfaction</th>\n",
       "      <th>Business City</th>\n",
       "      <th>Business State</th>\n",
       "    </tr>\n",
       "  </thead>\n",
       "  <tbody>\n",
       "    <tr>\n",
       "      <th>0</th>\n",
       "      <td>Travel Agency - 440</td>\n",
       "      <td>Non-Delivery of Goods - N01</td>\n",
       "      <td>10/11/2017</td>\n",
       "      <td>11/03/2017</td>\n",
       "      <td>Resolved and Consumer Satisfied - SPF</td>\n",
       "      <td>Yes</td>\n",
       "      <td>BROOKLYN</td>\n",
       "      <td>NY</td>\n",
       "    </tr>\n",
       "    <tr>\n",
       "      <th>1</th>\n",
       "      <td>Furniture Sales - 242</td>\n",
       "      <td>Non-Delivery of Goods - N01</td>\n",
       "      <td>01/06/2017</td>\n",
       "      <td>01/20/2017</td>\n",
       "      <td>Goods Received - GDR</td>\n",
       "      <td>Yes</td>\n",
       "      <td>BRONX</td>\n",
       "      <td>NY</td>\n",
       "    </tr>\n",
       "    <tr>\n",
       "      <th>2</th>\n",
       "      <td>Garage - 049</td>\n",
       "      <td>Damaged Goods - D01</td>\n",
       "      <td>09/13/2017</td>\n",
       "      <td>09/29/2017</td>\n",
       "      <td>Cash Amount - AMT</td>\n",
       "      <td>Yes</td>\n",
       "      <td>NEW YORK</td>\n",
       "      <td>NY</td>\n",
       "    </tr>\n",
       "    <tr>\n",
       "      <th>3</th>\n",
       "      <td>Secondhand Dealer Auto - 005</td>\n",
       "      <td>Damaged Goods - D01</td>\n",
       "      <td>01/12/2018</td>\n",
       "      <td>01/30/2018</td>\n",
       "      <td>Goods Repaired - GRS</td>\n",
       "      <td>Yes</td>\n",
       "      <td>WYCLOFF</td>\n",
       "      <td>NJ</td>\n",
       "    </tr>\n",
       "    <tr>\n",
       "      <th>4</th>\n",
       "      <td>Jewelry Store-Retail - 823</td>\n",
       "      <td>Non-Delivery of Goods - N01</td>\n",
       "      <td>01/10/2017</td>\n",
       "      <td>01/31/2017</td>\n",
       "      <td>Resolved and Consumer Satisfied - SPF</td>\n",
       "      <td>Yes</td>\n",
       "      <td>NEW YORK</td>\n",
       "      <td>NY</td>\n",
       "    </tr>\n",
       "  </tbody>\n",
       "</table>\n",
       "</div>"
      ],
      "text/plain": [
       "                       Industry               Complaint Type  \\\n",
       "0           Travel Agency - 440  Non-Delivery of Goods - N01   \n",
       "1         Furniture Sales - 242  Non-Delivery of Goods - N01   \n",
       "2                  Garage - 049          Damaged Goods - D01   \n",
       "3  Secondhand Dealer Auto - 005          Damaged Goods - D01   \n",
       "4    Jewelry Store-Retail - 823  Non-Delivery of Goods - N01   \n",
       "\n",
       "  Mediation Start Date Mediation Close Date  \\\n",
       "0           10/11/2017           11/03/2017   \n",
       "1           01/06/2017           01/20/2017   \n",
       "2           09/13/2017           09/29/2017   \n",
       "3           01/12/2018           01/30/2018   \n",
       "4           01/10/2017           01/31/2017   \n",
       "\n",
       "                        Complaint Result Satisfaction Business City  \\\n",
       "0  Resolved and Consumer Satisfied - SPF          Yes      BROOKLYN   \n",
       "1                   Goods Received - GDR          Yes         BRONX   \n",
       "2                      Cash Amount - AMT          Yes      NEW YORK   \n",
       "3                   Goods Repaired - GRS          Yes       WYCLOFF   \n",
       "4  Resolved and Consumer Satisfied - SPF          Yes      NEW YORK   \n",
       "\n",
       "  Business State  \n",
       "0             NY  \n",
       "1             NY  \n",
       "2             NY  \n",
       "3             NJ  \n",
       "4             NY  "
      ]
     },
     "execution_count": 10,
     "metadata": {},
     "output_type": "execute_result"
    }
   ],
   "source": [
    "file.data[:5]"
   ]
  },
  {
   "cell_type": "markdown",
   "metadata": {},
   "source": [
    "### Part 3"
   ]
  },
  {
   "cell_type": "markdown",
   "metadata": {},
   "source": [
    "(1) Which industry receives the most complaint?"
   ]
  },
  {
   "cell_type": "code",
   "execution_count": 11,
   "metadata": {},
   "outputs": [
    {
     "name": "stdout",
     "output_type": "stream",
     "text": [
      "Home Improvement Contractor - 100                   708\n",
      "Tow Truck Company - 124                             506\n",
      "Misc Non-Food Retail - 817                          497\n",
      "Electronic Store - 001                              401\n",
      "Furniture Sales - 242                               371\n",
      "Secondhand Dealer Auto - 005                        323\n",
      "Debt Collection Agency - 122                        310\n",
      "Garage - 049                                        182\n",
      "Appliances - 244                                    106\n",
      "Dry Cleaners - 230                                   98\n",
      "Electronic & Home Appliance Service Dealer - 115     73\n",
      "Mailorder Misc - 319                                 67\n",
      "Retail Store - 820                                   64\n",
      "Other                                                63\n",
      "Employment Agency - 034                              59\n",
      "Travel Agency - 440                                  57\n",
      "Restaurant - 818                                     43\n",
      "Jewelry Store-Retail - 823                           42\n",
      "Supermarket - 819                                    37\n",
      "Tax Preparers - 891                                  37\n",
      "Hotel/Motel - 460                                    34\n",
      "Pawnbroker - 080                                     30\n",
      "Health Spa - 839                                     26\n",
      "Garage & Parking Lot - 098                           25\n",
      "Laundry - 064                                        24\n",
      "Debt Settlement - 248                                22\n",
      "Dealer In Products For The Disabled - 119            18\n",
      "Secondhand Dealer [General] - 006                    18\n",
      "Auto Rental - 213                                    17\n",
      "Auction House - 128                                  16\n",
      "                                                   ... \n",
      "Fuel Oil Dealer - 814                                13\n",
      "Grocery-Retail - 808                                 11\n",
      "Parking Lot - 050                                    10\n",
      "Internet Complaints - 443                             9\n",
      "Tickets-Live Perf - 260                               7\n",
      "Floor Coverings - 241                                 6\n",
      "Gas Station-Retail - 815                              6\n",
      "Drug Store Retail - 810                               5\n",
      "Storage Warehouse - 120                               5\n",
      "Funeral Homes - 888                                   5\n",
      "Booting Company - 126                                 4\n",
      "Catering Establishment - 075                          4\n",
      "Ticket Seller                                         4\n",
      "Photography Services - 415                            3\n",
      "Car Wash                                              2\n",
      "Laundry Jobber - 066                                  2\n",
      "Horse Drawn Cab Driver - 086                          2\n",
      "Special Sale - 102                                    2\n",
      "Immigration Svc Prv - 893                             2\n",
      "Pedicab Driver - 131                                  2\n",
      "Hardware-Retail - 811                                 2\n",
      "Gift Certificate - 895                                1\n",
      "Ticket Seller Business                                1\n",
      "Tow Truck Driver - 125                                1\n",
      "Mini-Storage Company - 830                            1\n",
      "Laundries                                             1\n",
      "Auctioneer - 036                                      1\n",
      "Mobile Food Vendor - 881                              1\n",
      "Salons And Barbershop - 841                           1\n",
      "Amusement Device (Portable) - 018                     1\n",
      "Name: Industry, Length: 63, dtype: int64\n"
     ]
    }
   ],
   "source": [
    "file.count(\"Industry\")"
   ]
  },
  {
   "cell_type": "code",
   "execution_count": 11,
   "metadata": {},
   "outputs": [],
   "source": [
    "plt = file.plot(\"Industry\",\"pie\")\n"
   ]
  },
  {
   "cell_type": "markdown",
   "metadata": {},
   "source": [
    "So, Home Improvement Contractor - 100 is the industry which received most complaint."
   ]
  },
  {
   "cell_type": "markdown",
   "metadata": {},
   "source": [
    "(2)What is the percent of satisfied customer service?"
   ]
  },
  {
   "cell_type": "code",
   "execution_count": 15,
   "metadata": {},
   "outputs": [
    {
     "name": "stdout",
     "output_type": "stream",
     "text": [
      "Yes    2301\n",
      "No     1251\n",
      "Name: Satisfaction, dtype: int64\n"
     ]
    }
   ],
   "source": [
    "file.count(\"Satisfaction\")"
   ]
  },
  {
   "cell_type": "code",
   "execution_count": 5,
   "metadata": {},
   "outputs": [
    {
     "data": {
      "text/plain": [
       "0         Yes\n",
       "1         Yes\n",
       "2         Yes\n",
       "3         Yes\n",
       "4         Yes\n",
       "5         Yes\n",
       "6         Yes\n",
       "7     Unknown\n",
       "8         Yes\n",
       "9          No\n",
       "10        Yes\n",
       "11    Unknown\n",
       "12         No\n",
       "13    Unknown\n",
       "14         No\n",
       "15        Yes\n",
       "16         No\n",
       "17         No\n",
       "18        Yes\n",
       "19        Yes\n",
       "Name: Satisfaction, dtype: object"
      ]
     },
     "execution_count": 5,
     "metadata": {},
     "output_type": "execute_result"
    }
   ],
   "source": [
    "file.fillNA(\"Satisfaction\", \"Unknown\")\n",
    "file.data[:20]"
   ]
  },
  {
   "cell_type": "code",
   "execution_count": 34,
   "metadata": {},
   "outputs": [],
   "source": [
    "perncet_yes = 2301/4436"
   ]
  },
  {
   "cell_type": "code",
   "execution_count": 13,
   "metadata": {},
   "outputs": [
    {
     "name": "stdout",
     "output_type": "stream",
     "text": [
      "51.87%\n"
     ]
    }
   ],
   "source": [
    "print(\"{0:.2%}\".format(perncet_yes))"
   ]
  },
  {
   "cell_type": "markdown",
   "metadata": {},
   "source": [
    "So, the satisfaction rate is 51.87%."
   ]
  },
  {
   "cell_type": "code",
   "execution_count": 17,
   "metadata": {},
   "outputs": [
    {
     "data": {
      "text/plain": [
       "<matplotlib.axes._subplots.AxesSubplot at 0x22581672c88>"
      ]
     },
     "execution_count": 17,
     "metadata": {},
     "output_type": "execute_result"
    },
    {
     "data": {
      "image/png": "[encoded data removed]",
      "text/plain": [
       "<Figure size 432x288 with 1 Axes>"
      ]
     },
     "metadata": {},
     "output_type": "display_data"
    }
   ],
   "source": [
    "file.plot(\"Satisfaction\", \"bar\")"
   ]
  },
  {
   "cell_type": "markdown",
   "metadata": {},
   "source": [
    "(3) What are the first 5 states which receives most complaint?"
   ]
  },
  {
   "cell_type": "code",
   "execution_count": 20,
   "metadata": {},
   "outputs": [
    {
     "name": "stdout",
     "output_type": "stream",
     "text": [
      "NY    3726\n",
      "IL      70\n",
      "NJ      68\n",
      "GA      67\n",
      "TX      62\n",
      "CT      43\n",
      "CA      41\n",
      "VA      38\n",
      "MN      35\n",
      "DE      33\n",
      "FL      31\n",
      "WA      30\n",
      "PA      29\n",
      "OH      22\n",
      "MA      21\n",
      "KS      13\n",
      "AR      13\n",
      "NC      13\n",
      "MO      11\n",
      "WI      10\n",
      "TN       9\n",
      "NM       9\n",
      "SC       5\n",
      "UT       5\n",
      "IA       3\n",
      "AZ       3\n",
      "AL       3\n",
      "OR       3\n",
      "CO       3\n",
      "KY       3\n",
      "IN       2\n",
      "MS       2\n",
      "OK       2\n",
      "LA       2\n",
      "NE       1\n",
      "MI       1\n",
      "NH       1\n",
      "SD       1\n",
      "RI       1\n",
      "NV       1\n",
      "Name: Business State, dtype: int64\n"
     ]
    }
   ],
   "source": [
    "file.count(\"Business State\")"
   ]
  },
  {
   "cell_type": "markdown",
   "metadata": {},
   "source": [
    "So, the first 5 states are NY with 3729 complaints, IL with 70 complaints, NJ with 68 complaints, GA with 67 complaints and TX with 62 complaints"
   ]
  },
  {
   "cell_type": "code",
   "execution_count": 14,
   "metadata": {},
   "outputs": [
    {
     "data": {
      "text/plain": [
       "<matplotlib.axes._subplots.AxesSubplot at 0x225814f5c18>"
      ]
     },
     "execution_count": 14,
     "metadata": {},
     "output_type": "execute_result"
    },
    {
     "data": {
      "image/png": "[encoded data removed]",
      "text/plain": [
       "<Figure size 432x288 with 1 Axes>"
      ]
     },
     "metadata": {},
     "output_type": "display_data"
    }
   ],
   "source": [
    "file.plot(\"Business State\", \"pie\")"
   ]
  },
  {
   "cell_type": "code",
   "execution_count": null,
   "metadata": {},
   "outputs": [],
   "source": []
  }
 ],
 "metadata": {
  "kernelspec": {
   "display_name": "Python 3",
   "language": "python",
   "name": "python3"
  },
  "language_info": {
   "codemirror_mode": {
    "name": "ipython",
    "version": 3
   },
   "file_extension": ".py",
   "mimetype": "text/x-python",
   "name": "python",
   "nbconvert_exporter": "python",
   "pygments_lexer": "ipython3",
   "version": "3.6.5"
  }
 },
 "nbformat": 4,
 "nbformat_minor": 2
}
